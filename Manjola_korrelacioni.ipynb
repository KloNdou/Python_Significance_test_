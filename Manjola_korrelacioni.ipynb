{
 "cells": [
  {
   "cell_type": "code",
   "execution_count": 39,
   "id": "3c369b66-85cd-411b-85b7-a8f1ba3d1aae",
   "metadata": {},
   "outputs": [],
   "source": [
    "import pandas as pd\n",
    "import numpy as np\n",
    "import scipy.stats as stats  # For statistical tests, including correlation significance\n",
    "import seaborn as sns \n",
    "import matplotlib.pyplot as plt  "
   ]
  },
  {
   "cell_type": "code",
   "execution_count": 20,
   "id": "2fe08459-c113-41d6-a706-67f7112d30e4",
   "metadata": {},
   "outputs": [],
   "source": [
    "te_dhenat = pd.read_csv(r\"C:\\Users\\user\\Downloads\\data.csv\")\n"
   ]
  },
  {
   "cell_type": "code",
   "execution_count": 41,
   "id": "ea6a44e8-12ac-45da-80e2-136315b87cc7",
   "metadata": {},
   "outputs": [
    {
     "name": "stdout",
     "output_type": "stream",
     "text": [
      "         Data  Dite qendrimi     Drenazh Gjinia  Grup mosha Initialet  \\\n",
      "0  2023-01-05              8  Pa drenazh      F          80       L.K   \n",
      "1  2023-01-05             25  Me drenazh      M          50       M.B   \n",
      "2  2023-01-13              3  Me drenazh      M          40       E.K   \n",
      "3  2023-02-08             16  Me drenazh      F          30       K.P   \n",
      "4  2023-02-16              8  Me drenazh      F          40       L.P   \n",
      "5  2023-03-06             21  Me drenazh      M          10      XH.C   \n",
      "6  2023-03-09              6  Me drenazh      M          60       G.Z   \n",
      "7  2023-03-16              8  Pa drenazh      M          60       H.A   \n",
      "8  2023-03-20              4  Me drenazh      M          80       P.N   \n",
      "9  2023-04-05              1  Pa drenazh      M          30       E.K   \n",
      "10 2023-04-16             31  Me drenazh      F          60     Dh.Xh   \n",
      "11 2023-04-21             21  Me drenazh      F          30       Y.B   \n",
      "12 2023-04-22             13  Me drenazh      M          20       M.A   \n",
      "13 2023-04-24              3  Pa drenazh      M          60       S.T   \n",
      "14 2023-04-26             10  Me drenazh      M          30       K.C   \n",
      "15 2023-04-28              4  Me drenazh      M          60     Sh.XH   \n",
      "16 2023-05-06              9  Me drenazh      M          60     Xh.Gj   \n",
      "17 2023-05-10             12  Pa drenazh      M          60      R.Xh   \n",
      "18 2023-05-19              6  Me drenazh      M          60       H.B   \n",
      "19 2023-05-23              4  Me drenazh      M          70       M.K   \n",
      "20 2023-05-29             10  Me drenazh      M          30       M.P   \n",
      "21 2023-06-14              8  Me drenazh      M          60       A.C   \n",
      "22 2023-06-25              9  Me drenazh      M          10       A.H   \n",
      "23 2023-06-26              4  Me drenazh      M          50       A.G   \n",
      "24 2023-07-20             11  Me drenazh      F          50       P.K   \n",
      "25 2023-08-09              9  Me drenazh      M          50       D.A   \n",
      "26 2023-08-22             18  Me drenazh      M          50       A.C   \n",
      "27 2023-08-23             37  Me drenazh      M          60       A.M   \n",
      "28 2023-08-25              4  Me drenazh      M          40      Sh.K   \n",
      "29 2023-09-07             18  Me drenazh      F          70      XH.T   \n",
      "30 2023-09-15             16  Me drenazh      M          40       B.H   \n",
      "31 2023-09-18             46  Me drenazh      M          50       B.G   \n",
      "32 2023-09-23             26  Me drenazh      M          80       I.H   \n",
      "33 2023-09-27              6  Me drenazh      M          70       H.Q   \n",
      "34 2023-09-29             10  Me drenazh      M          60       R.Z   \n",
      "35 2023-09-30              9  Me drenazh      M          40       I.A   \n",
      "36 2023-09-30             24  Me drenazh      M          70       R.P   \n",
      "37 2023-10-02              4  Me drenazh      M          30       K.C   \n",
      "38 2023-10-16             10  Me drenazh      M          80       N.S   \n",
      "39 2023-10-18              6  Me drenazh      M          60       N.M   \n",
      "40 2023-11-08             99  Me drenazh      M          50       B.G   \n",
      "41 2023-11-10             21  Me drenazh      F          50      V.SH   \n",
      "42 2023-11-13              4  Me drenazh      M          40      Sh.S   \n",
      "43 2023-11-14              6  Me drenazh      M          60       A.B   \n",
      "44 2023-11-21              1  Pa drenazh      F          50       B.K   \n",
      "45 2023-11-30              6  Pa drenazh      M          60       N.M   \n",
      "46 2023-12-29              5  Me drenazh      M          70       F.M   \n",
      "\n",
      "   Lloji i empiemes  Mosha   Vendbanimi  \n",
      "0          Sinister     83     Peshkopi  \n",
      "1            Dexter     51     Pogradec  \n",
      "2          Sinister     43       Tirane  \n",
      "3            Dexter     37       Tirane  \n",
      "4          Sinister     42      Bulqize  \n",
      "5          Sinister     15        Vlore  \n",
      "6            Dexter     64       Tirane  \n",
      "7          Sinister     66      Lushnje  \n",
      "8          Sinister     84     Mamurras  \n",
      "9          Sinister     36       Kavaje  \n",
      "10           Dexter     61       Tirane  \n",
      "11           Dexter     37     Librazhd  \n",
      "12         Sinister     29        Vlore  \n",
      "13           Dexter     69        Korce  \n",
      "14           Dexter     31      Elbasan  \n",
      "15           Dexter     64      Elbasan  \n",
      "16           Dexter     67      Elbasan  \n",
      "17         Sinister     62       Tirane  \n",
      "18           Dexter     65       Tirane  \n",
      "19         Sinister     76         Vore  \n",
      "20           Dexter     34        Kamez  \n",
      "21         Sinister     66       Tirane  \n",
      "22         Sinister     16      Elbasan  \n",
      "23           Dexter     59         Fier  \n",
      "24           Dexter     58       Tirane  \n",
      "25         Sinister     50        Lezhe  \n",
      "26         Sinister     51         Fier  \n",
      "27       bilaterale     61       Tirane  \n",
      "28           Dexter     44       Tirane  \n",
      "29         Sinister     71       Durres  \n",
      "30           Dexter     46  Fushe-Kruje  \n",
      "31         Sinister     51      Shkoder  \n",
      "32           Dexter     89      Bulqize  \n",
      "33           Dexter     75       Gramsh  \n",
      "34           Dexter     66     Peshkopi  \n",
      "35         Sinister     46        Korce  \n",
      "36         Sinister     71       Tirane  \n",
      "37           Dexter     31      Elbasan  \n",
      "38           Dexter     80         Fier  \n",
      "39           Dexter     60       Durres  \n",
      "40         Sinister     51      Shkoder  \n",
      "41         Sinister     56       Tirane  \n",
      "42           Dexter     46        Berat  \n",
      "43         Sinister     60        Vlore  \n",
      "44           Dexter     53       Burrel  \n",
      "45          Kronike     60       Durres  \n",
      "46         Sinister     76      Shkoder  \n"
     ]
    }
   ],
   "source": [
    "print(te_dhenat)"
   ]
  },
  {
   "cell_type": "code",
   "execution_count": 45,
   "id": "6de4bf69-f2c2-4d22-abd4-2b044f428435",
   "metadata": {},
   "outputs": [
    {
     "data": {
      "text/plain": [
       "Data                datetime64[ns]\n",
       "Dite qendrimi                int64\n",
       "Drenazh                     object\n",
       "Gjinia                      object\n",
       "Grup mosha                   int64\n",
       "Initialet                   object\n",
       "Lloji i empiemes            object\n",
       "Mosha                        int64\n",
       "Vendbanimi                  object\n",
       "dtype: object"
      ]
     },
     "execution_count": 45,
     "metadata": {},
     "output_type": "execute_result"
    }
   ],
   "source": [
    "te_dhenat.dtypes"
   ]
  },
  {
   "cell_type": "code",
   "execution_count": 47,
   "id": "38082e41-f100-4abc-8409-7d24ed0bb85e",
   "metadata": {},
   "outputs": [],
   "source": [
    "te_dhenat['Data'] = pd.to_datetime(te_dhenat['Data'])"
   ]
  },
  {
   "cell_type": "code",
   "execution_count": 49,
   "id": "c5b6cf77-6c13-4ffa-8a71-e030f1e5eefa",
   "metadata": {},
   "outputs": [],
   "source": [
    "correlation = te_dhenat['Dite qendrimi'].corr(te_dhenat['Mosha'])\n"
   ]
  },
  {
   "cell_type": "code",
   "execution_count": null,
   "id": "31424054-d611-427d-be31-e9169af2b1d0",
   "metadata": {},
   "outputs": [],
   "source": [
    "#Koeficienti i korrelacionit prej -0.0507 sugjeron një lidhje shumë të dobët negative midis numrit të ditëve të kaluara në spital dhe moshës. Kjo nënkupton që, ndërsa mosha rritet, numri i ditëve që një person qëndron në spital priret të zvogëlohet pak, por lidhja nuk është e fortë.\n",
    "\n",
    "#Në praktikë, një korrelacion afër zeros shpesh tregon se nuk ka një lidhje të rëndësishme lineare midis dy variablave. Mund të jetë e dobishme të eksploroni më tej këtë me analiza shtesë ose vizualizime, si p.sh. krijimi i një grafiku shpërndarjeje (scatter plot), për të parë nëse ka ndonjë model ose tendencë tjetër."
   ]
  },
  {
   "cell_type": "code",
   "execution_count": 51,
   "id": "289882f7-b5e9-4859-9143-9ff58c6379ea",
   "metadata": {},
   "outputs": [
    {
     "name": "stdout",
     "output_type": "stream",
     "text": [
      "Correlation between days in hospital and age: -0.05071262880131507\n"
     ]
    }
   ],
   "source": [
    "print(\"Correlation between days in hospital and age:\", correlation)"
   ]
  },
  {
   "cell_type": "code",
   "execution_count": 53,
   "id": "b10867c6-3732-4647-89bd-3d26dca04e29",
   "metadata": {},
   "outputs": [],
   "source": [
    "te_dhenat_2 = te_dhenat.copy()"
   ]
  },
  {
   "cell_type": "code",
   "execution_count": 149,
   "id": "aa0bdd2d-7b6b-4cbc-a1f8-898b5f866578",
   "metadata": {},
   "outputs": [],
   "source": [
    "te_dhenat_2 = te_dhenat_2[te_dhenat_2['Dite qendrimi'] != 99]"
   ]
  },
  {
   "cell_type": "code",
   "execution_count": 151,
   "id": "16069428-f970-4d44-b188-dc9bc7f42107",
   "metadata": {},
   "outputs": [],
   "source": [
    "# Convert categorical columns to numerical values using label encoding\n",
    "te_dhenat_2['Lloji i empiemes'] = te_dhenat['Lloji i empiemes'].astype('category').cat.codes"
   ]
  },
  {
   "cell_type": "code",
   "execution_count": 153,
   "id": "bbc961c9-db12-4f23-8fbc-8c85354b5bea",
   "metadata": {},
   "outputs": [],
   "source": [
    "te_dhenat_2['Drenazh'] = te_dhenat['Drenazh'].astype('category').cat.codes\n"
   ]
  },
  {
   "cell_type": "code",
   "execution_count": 155,
   "id": "cebce5bc-ff82-4699-8dd5-9c369f8d5d89",
   "metadata": {},
   "outputs": [],
   "source": [
    "te_dhenat_2['Gjinia'] = te_dhenat['Gjinia'].astype('category').cat.codes\n"
   ]
  },
  {
   "cell_type": "code",
   "execution_count": 157,
   "id": "4abcf4db-47b7-4125-a7ff-9c8ae4038e7f",
   "metadata": {},
   "outputs": [],
   "source": [
    "te_dhenat_2['Vendbanimi'] = te_dhenat['Vendbanimi'].astype('category').cat.codes"
   ]
  },
  {
   "cell_type": "code",
   "execution_count": null,
   "id": "4d36936e-1070-4694-8cb2-9369cb411931",
   "metadata": {},
   "outputs": [],
   "source": [
    "te_dhenat_2 = te_dhenat_2.drop(columns=['Initialet'])"
   ]
  },
  {
   "cell_type": "code",
   "execution_count": 164,
   "id": "9fce2cb4-0ec9-4164-877f-0c97b96e91f9",
   "metadata": {},
   "outputs": [],
   "source": [
    "correlation_matrix = te_dhenat_2.corr()"
   ]
  },
  {
   "cell_type": "code",
   "execution_count": 166,
   "id": "e57fad1c-df85-4deb-adcc-0a59a9e15f7c",
   "metadata": {},
   "outputs": [
    {
     "name": "stdout",
     "output_type": "stream",
     "text": [
      "                  Dite qendrimi   Drenazh    Gjinia  Grup mosha  \\\n",
      "Dite qendrimi          1.000000 -0.273437 -0.166586    0.000876   \n",
      "Drenazh               -0.273437  1.000000 -0.096182    0.136539   \n",
      "Gjinia                -0.166586 -0.096182  1.000000    0.011611   \n",
      "Grup mosha             0.000876  0.136539  0.011611    1.000000   \n",
      "Lloji i empiemes       0.190848  0.118497  0.053646    0.012202   \n",
      "Mosha                 -0.032300  0.140275  0.007921    0.987001   \n",
      "Vendbanimi             0.261002 -0.085158 -0.025461    0.042919   \n",
      "\n",
      "                  Lloji i empiemes     Mosha  Vendbanimi  \n",
      "Dite qendrimi             0.190848 -0.032300    0.261002  \n",
      "Drenazh                   0.118497  0.140275   -0.085158  \n",
      "Gjinia                    0.053646  0.007921   -0.025461  \n",
      "Grup mosha                0.012202  0.987001    0.042919  \n",
      "Lloji i empiemes          1.000000 -0.018618    0.348385  \n",
      "Mosha                    -0.018618  1.000000    0.055517  \n",
      "Vendbanimi                0.348385  0.055517    1.000000  \n"
     ]
    }
   ],
   "source": [
    "print(correlation_matrix)"
   ]
  },
  {
   "cell_type": "code",
   "execution_count": 123,
   "id": "19b48ef7-d77b-4f98-adee-56fdf91e5e03",
   "metadata": {},
   "outputs": [
    {
     "data": {
      "text/plain": [
       "<function matplotlib.pyplot.show(close=None, block=None)>"
      ]
     },
     "execution_count": 123,
     "metadata": {},
     "output_type": "execute_result"
    },
    {
     "data": {
      "image/png": "[encoded data removed]",
      "text/plain": [
       "<Figure size 1200x1000 with 2 Axes>"
      ]
     },
     "metadata": {},
     "output_type": "display_data"
    }
   ],
   "source": [
    "plt.figure(figsize=(12, 10))\n",
    "sns.heatmap(correlation_matrix, annot=True, cmap='coolwarm', vmin=-1, vmax=1, annot_kws={\"size\": 10})\n",
    "plt.show"
   ]
  },
  {
   "cell_type": "code",
   "execution_count": null,
   "id": "904f5dce-bf45-4b6f-9783-955ffdc7f1a1",
   "metadata": {},
   "outputs": [],
   "source": [
    "# Vendbanimi has a weak positive correlation with Dite qendrimi (0.2553) and Lloji i empiemes (0.3598). This suggests that the location may slightly influence the type of empieme and the duration of the hospital stay.\n",
    "\n",
    "# The correlation between Dite qendrimi and Lloji i empiemes is 0.2266, which suggests a weak positive relationship. This means that certain types of empieme may be associated with longer stays in the hospital, but the relationship is not very strong.\n",
    "\n"
   ]
  },
  {
   "cell_type": "code",
   "execution_count": null,
   "id": "facca736-936c-4dc5-9100-6c77928ae8f7",
   "metadata": {},
   "outputs": [],
   "source": [
    "# Null Hypothesis (H0): The distribution of gender (male vs. female) in your sample is not significantly different from an expected distribution (e.g., a 50-50 distribution).\n",
    "\n",
    "# Alternative Hypothesis (H1): The distribution of gender in your sample is significantly different from the expected distribution"
   ]
  },
  {
   "cell_type": "code",
   "execution_count": 83,
   "id": "babd2857-f578-4ef1-b69c-dbd5e8e55ee2",
   "metadata": {},
   "outputs": [],
   "source": [
    "# Observed data (38 males, 9 females)\n",
    "observed = [38, 9]\n",
    "\n",
    "# Expected data assuming equal distribution\n",
    "expected = [23.5, 23.5]  # 47 total cases divided equally"
   ]
  },
  {
   "cell_type": "code",
   "execution_count": 85,
   "id": "5c2d41eb-2e56-44a6-8008-3be06e93ece1",
   "metadata": {},
   "outputs": [],
   "source": [
    "chi2, p_value = stats.chisquare(f_obs=observed, f_exp=expected)\n"
   ]
  },
  {
   "cell_type": "code",
   "execution_count": 87,
   "id": "d3ebdddf-efdc-4162-91c7-1c3494736900",
   "metadata": {},
   "outputs": [
    {
     "name": "stdout",
     "output_type": "stream",
     "text": [
      "Chi-square Statistic: 17.893617021276597\n",
      "P-value: 2.3360328291287675e-05\n"
     ]
    }
   ],
   "source": [
    "print(\"Chi-square Statistic:\", chi2)\n",
    "print(\"P-value:\", p_value)"
   ]
  },
  {
   "cell_type": "code",
   "execution_count": null,
   "id": "bb2170ed-d744-4561-a031-8bab07a22fcd",
   "metadata": {},
   "outputs": [],
   "source": [
    "# The results of your Chi-square test are as follows:\n",
    "\n",
    "# Chi-square Statistic: 17.89\n",
    "#  P-value: 0.00002336 (approximately)\n",
    "# Interpretation:\n",
    "# P-value < 0.05: Since the p-value is significantly less than 0.05, you can reject the null hypothesis. This indicates that the observed gender distribution (38 males and 9 females) is significantly different from what would be expected by chance if the distribution were equal.\n",
    "# Conclusion:\n",
    "# The gender distribution in our data is not random and shows a statistically significant deviation from an equal distribution. This suggests that being male or female might be associated with the condition or factor under study in your data. Further investigation could explore why this discrepancy exists and whether it has any practical or clinical significance.\n"
   ]
  },
  {
   "cell_type": "code",
   "execution_count": 95,
   "id": "ad62c4e1-a5fc-4afd-b51a-896904b74db6",
   "metadata": {},
   "outputs": [],
   "source": [
    "age_group_counts = te_dhenat['Grup mosha'].value_counts().sort_index()"
   ]
  },
  {
   "cell_type": "code",
   "execution_count": 97,
   "id": "2abd45b8-9a67-444c-95c8-d23f6bc3543e",
   "metadata": {},
   "outputs": [
    {
     "name": "stdout",
     "output_type": "stream",
     "text": [
      "Grup mosha\n",
      "10     2\n",
      "20     1\n",
      "30     6\n",
      "40     6\n",
      "50     9\n",
      "60    14\n",
      "70     5\n",
      "80     4\n",
      "Name: count, dtype: int64\n"
     ]
    }
   ],
   "source": [
    "print(age_group_counts)"
   ]
  },
  {
   "cell_type": "code",
   "execution_count": 99,
   "id": "c3abc512-6dbc-43bf-b0ff-0f9d0be4334f",
   "metadata": {},
   "outputs": [],
   "source": [
    "import numpy as np\n",
    "from scipy.stats import chisquare\n",
    "\n"
   ]
  },
  {
   "cell_type": "code",
   "execution_count": 113,
   "id": "a8b68c47-8acd-471f-88a4-001391e1defc",
   "metadata": {},
   "outputs": [],
   "source": [
    "# Observed frequencies from your data\n",
    "observed_frequencies = np.array([2, 1, 6, 6, 9, 14, 5, 4])"
   ]
  },
  {
   "cell_type": "code",
   "execution_count": 103,
   "id": "31e0c4df-2399-415e-a288-1f2d5e31c122",
   "metadata": {},
   "outputs": [],
   "source": [
    "total_cases = np.sum(observed_frequencies)"
   ]
  },
  {
   "cell_type": "code",
   "execution_count": 109,
   "id": "5ab704c2-0e4c-4e04-aed4-fa2078468e4e",
   "metadata": {},
   "outputs": [],
   "source": [
    "expected_frequencies = np.array([6, 5, 7, 5, 6, 8, 4, 6])\n"
   ]
  },
  {
   "cell_type": "code",
   "execution_count": 115,
   "id": "ffcfbce7-c23a-42a7-8bd3-dc9800bf228e",
   "metadata": {},
   "outputs": [],
   "source": [
    "expected_frequencies = expected_frequencies * (total_cases / np.sum(expected_frequencies))\n"
   ]
  },
  {
   "cell_type": "code",
   "execution_count": 117,
   "id": "0a314ce0-96dd-4b2c-9807-54a451186b69",
   "metadata": {},
   "outputs": [
    {
     "name": "stdout",
     "output_type": "stream",
     "text": [
      "Sum of observed frequencies: 47\n",
      "Sum of expected frequencies: 47.0\n"
     ]
    }
   ],
   "source": [
    "print(f\"Sum of observed frequencies: {np.sum(observed_frequencies)}\")\n",
    "print(f\"Sum of expected frequencies: {np.sum(expected_frequencies)}\")"
   ]
  },
  {
   "cell_type": "code",
   "execution_count": 119,
   "id": "c47cec15-789a-4326-ae41-4f3758e3de91",
   "metadata": {},
   "outputs": [],
   "source": [
    "chi2_statistic, p_value = chisquare(observed_frequencies, f_exp=expected_frequencies)\n"
   ]
  },
  {
   "cell_type": "code",
   "execution_count": 121,
   "id": "4a38a34e-8933-42fe-9840-a35dd9b06b33",
   "metadata": {},
   "outputs": [
    {
     "name": "stdout",
     "output_type": "stream",
     "text": [
      "Chi-square Statistic: 20.23404255319149\n",
      "P-value: 0.005085732564633753\n"
     ]
    }
   ],
   "source": [
    "print(f\"Chi-square Statistic: {chi2_statistic}\")\n",
    "print(f\"P-value: {p_value}\")"
   ]
  },
  {
   "cell_type": "code",
   "execution_count": null,
   "id": "5ad4b4cd-9147-4d5b-a0f7-93438b18c4ec",
   "metadata": {},
   "outputs": [],
   "source": [
    "# The results of your Chi-square test are:\n",
    "\n",
    "# Chi-square Statistic: 20.234\n",
    "# P-value: 0.0051\n",
    "# Interpretation:\n",
    "# Chi-square Statistic: This value measures how much the observed frequencies deviate from the expected frequencies. A higher statistic suggests a greater deviation.\n",
    "\n",
    "# P-value: The p-value indicates the probability of observing a Chi-square statistic as extreme as, or more extreme than, the one calculated, assuming the null hypothesis is true (i.e., the observed distribution is not significantly different from the expected distribution).\n",
    "\n",
    "# Conclusion:\n",
    "# Significance: With a p-value of 0.0051, which is less than the common significance level of 0.05, you can reject the null hypothesis. This suggests that the distribution of cases across age groups is significantly different from what would be expected by chance.\n",
    "\n",
    "# Practical Implication: There appears to be a significant difference between the observed distribution of cases in different age groups and what would be expected if cases were evenly distributed or following some other theoretical distribution. This indicates that age may have a significant impact on the distribution of cases in your dataset."
   ]
  },
  {
   "cell_type": "code",
   "execution_count": 125,
   "id": "2f9985c0-6fd7-4b11-b888-4f84eee10620",
   "metadata": {},
   "outputs": [
    {
     "name": "stdout",
     "output_type": "stream",
     "text": [
      "Correlation between days in hospital and age: -0.05071262880131507\n"
     ]
    }
   ],
   "source": [
    "correlation_age = te_dhenat['Dite qendrimi'].corr(te_dhenat['Mosha'])\n",
    "print(f\"Correlation between days in hospital and age: {correlation_age}\")"
   ]
  },
  {
   "cell_type": "code",
   "execution_count": 127,
   "id": "bac8c6c9-936e-4376-afd3-82a83889eab4",
   "metadata": {},
   "outputs": [],
   "source": [
    "# Convert gender to numerical values\n",
    "te_dhenat['Gjinia_numeric'] = te_dhenat['Gjinia'].astype('category').cat.codes"
   ]
  },
  {
   "cell_type": "code",
   "execution_count": 129,
   "id": "a0d5f089-8ed2-46fb-b293-d799a1ec7a9d",
   "metadata": {},
   "outputs": [
    {
     "name": "stdout",
     "output_type": "stream",
     "text": [
      "Correlation between days in hospital and gender: -0.04269618552398757\n"
     ]
    }
   ],
   "source": [
    "# Calculate the correlation between days in hospital and gender\n",
    "correlation_gender = te_dhenat['Dite qendrimi'].corr(te_dhenat['Gjinia_numeric'])\n",
    "print(f\"Correlation between days in hospital and gender: {correlation_gender}\")"
   ]
  },
  {
   "cell_type": "code",
   "execution_count": 131,
   "id": "8f51591a-d068-4129-bab7-5806542a4d2b",
   "metadata": {},
   "outputs": [],
   "source": [
    "from scipy.stats import ttest_ind\n"
   ]
  },
  {
   "cell_type": "code",
   "execution_count": 133,
   "id": "18350c95-cdb0-4830-93e0-07811c33e998",
   "metadata": {},
   "outputs": [],
   "source": [
    "\n",
    "# Separate the data by gender\n",
    "days_male = te_dhenat[te_dhenat['Gjinia'] == 'M']['Dite qendrimi']\n",
    "days_female = te_dhenat[te_dhenat['Gjinia'] == 'F']['Dite qendrimi']\n"
   ]
  },
  {
   "cell_type": "code",
   "execution_count": 135,
   "id": "f9bdd9c3-c8da-4a49-a165-0b2fafc2105d",
   "metadata": {},
   "outputs": [
    {
     "name": "stdout",
     "output_type": "stream",
     "text": [
      "T-statistic: -0.41694621184041547, P-value: 0.6804171804002084\n"
     ]
    }
   ],
   "source": [
    "\n",
    "# Perform the t-test\n",
    "t_statistic, p_value = ttest_ind(days_male, days_female, equal_var=False)\n",
    "print(f\"T-statistic: {t_statistic}, P-value: {p_value}\")"
   ]
  },
  {
   "cell_type": "code",
   "execution_count": 137,
   "id": "efebadbf-68cf-4666-a2ce-6045c9231b7b",
   "metadata": {},
   "outputs": [],
   "source": [
    "import statsmodels.api as sm\n"
   ]
  },
  {
   "cell_type": "code",
   "execution_count": 139,
   "id": "80718113-a88f-4b97-8427-ef4f663a7e49",
   "metadata": {},
   "outputs": [],
   "source": [
    "X = sm.add_constant(te_dhenat['Mosha'])  # Add a constant term for the intercept\n",
    "y = te_dhenat['Dite qendrimi']"
   ]
  },
  {
   "cell_type": "code",
   "execution_count": 141,
   "id": "7ee573fb-fe71-4183-b2bd-6a0c7e135597",
   "metadata": {},
   "outputs": [],
   "source": [
    "model = sm.OLS(y, X).fit()"
   ]
  },
  {
   "cell_type": "code",
   "execution_count": 143,
   "id": "7d872eae-eddd-4999-b9d2-e438bfbb0417",
   "metadata": {},
   "outputs": [
    {
     "name": "stdout",
     "output_type": "stream",
     "text": [
      "                            OLS Regression Results                            \n",
      "==============================================================================\n",
      "Dep. Variable:          Dite qendrimi   R-squared:                       0.003\n",
      "Model:                            OLS   Adj. R-squared:                 -0.020\n",
      "Method:                 Least Squares   F-statistic:                    0.1160\n",
      "Date:                Mon, 19 Aug 2024   Prob (F-statistic):              0.735\n",
      "Time:                        20:42:05   Log-Likelihood:                -196.24\n",
      "No. Observations:                  47   AIC:                             396.5\n",
      "Df Residuals:                      45   BIC:                             400.2\n",
      "Df Model:                           1                                         \n",
      "Covariance Type:            nonrobust                                         \n",
      "==============================================================================\n",
      "                 coef    std err          t      P>|t|      [0.025      0.975]\n",
      "------------------------------------------------------------------------------\n",
      "const         16.2312      8.025      2.023      0.049       0.067      32.395\n",
      "Mosha         -0.0471      0.138     -0.341      0.735      -0.326       0.231\n",
      "==============================================================================\n",
      "Omnibus:                       66.137   Durbin-Watson:                   1.896\n",
      "Prob(Omnibus):                  0.000   Jarque-Bera (JB):              591.541\n",
      "Skew:                           3.594   Prob(JB):                    3.54e-129\n",
      "Kurtosis:                      18.824   Cond. No.                         199.\n",
      "==============================================================================\n",
      "\n",
      "Notes:\n",
      "[1] Standard Errors assume that the covariance matrix of the errors is correctly specified.\n"
     ]
    }
   ],
   "source": [
    "print(model.summary())"
   ]
  },
  {
   "cell_type": "code",
   "execution_count": 145,
   "id": "af8022a9-21eb-4df9-aebf-9d00c50da85c",
   "metadata": {},
   "outputs": [],
   "source": [
    "from scipy.stats import shapiro\n"
   ]
  },
  {
   "cell_type": "code",
   "execution_count": 147,
   "id": "93907ce8-c2c0-48f7-84c2-b312e68ee45a",
   "metadata": {},
   "outputs": [
    {
     "name": "stdout",
     "output_type": "stream",
     "text": [
      "Shapiro-Wilk Test Statistic: 0.6187556982040405, P-value: 8.195796818988299e-10\n"
     ]
    }
   ],
   "source": [
    "# Test for normality in days staying in hospital\n",
    "stat, p = shapiro(te_dhenat['Dite qendrimi'])\n",
    "print(f\"Shapiro-Wilk Test Statistic: {stat}, P-value: {p}\")"
   ]
  },
  {
   "cell_type": "code",
   "execution_count": null,
   "id": "48ecb9ad-3d86-423a-908c-3d98142e0f62",
   "metadata": {},
   "outputs": [],
   "source": [
    "# Correlation with Gender:\n",
    "\n",
    "# Correlation Coefficient: -0.043\n",
    "# P-value: 0.680\n",
    "# The correlation coefficient of -0.043 suggests an almost negligible negative relationship between the number of days staying in the hospital and gender. With a p-value of 0.680, this indicates that the observed correlation is not statistically significant, meaning there is no strong evidence to suggest that gender influences the number of days in the hospital.\n",
    "\n",
    "# OLS Regression Results:\n",
    "\n",
    "# R-squared: 0.003\n",
    "# Adj. R-squared: -0.020\n",
    "# F-statistic: 0.116\n",
    "# P-value (F-statistic): 0.735\n",
    "# Coefficient for Age: -0.0471\n",
    "# P-value for Age: 0.735\n",
    "# The OLS regression results indicate that:\n",
    "\n",
    "# The R-squared value of 0.003 means that only 0.3% of the variability in the number of days in the hospital is explained by age, which is extremely low.\n",
    "# The p-value for the F-statistic is 0.735, suggesting that the model as a whole does not explain the variability in the number of days in the hospital.\n",
    "# The coefficient for age is -0.0471, which is very small and not statistically significant (p-value of 0.735).\n",
    "# Normality Check:\n",
    "\n",
    "# Shapiro-Wilk Test Statistic: 0.619\n",
    "# P-value: 8.20e-10\n",
    "# The Shapiro-Wilk test indicates that the residuals are not normally distributed (p-value is much smaller than 0.05), which violates one of the assumptions of linear regression.\n",
    "\n",
    "# Recommendations\n",
    "# Further Investigation:\n",
    "\n",
    "# Given the lack of significant findings in both correlation and regression analyses, it may be beneficial to explore other variables or factors that might affect the number of days in the hospital.\n",
    "# Consider non-parametric tests or other models that do not assume linearity and normality if you suspect that relationships might be non-linear or data does not meet the normality assumption.\n",
    "# Alternative Analysis:\n",
    "\n",
    "# Group Comparisons: Compare days in hospital across different groups (e.g., gender, age groups) using non-parametric tests like the Mann-Whitney U test or Kruskal-Wallis test for more robust results.\n",
    "# Visual Analysis: Plot the data to visually inspect any patterns or trends that may not be captured by linear regression.\n",
    "# Summary\n",
    "# The statistical tests suggest that there is no significant relationship between days in the hospital and age or gender in your dataset. The regression model does not explain much of the variability, and residuals do not meet normality assumptions. Consider alternative methods and further investigation to gain additional insights."
   ]
  },
  {
   "cell_type": "code",
   "execution_count": 168,
   "id": "47508edd-455a-4902-bcbb-17db84e00515",
   "metadata": {},
   "outputs": [],
   "source": [
    "import pandas as pd\n",
    "import numpy as np\n",
    "import seaborn as sns\n",
    "import matplotlib.pyplot as plt\n",
    "from scipy import stats"
   ]
  },
  {
   "cell_type": "code",
   "execution_count": 170,
   "id": "ac58d864-8c28-449a-a7bd-944b52f4815f",
   "metadata": {},
   "outputs": [],
   "source": [
    "te_dhenat = pd.read_csv(r\"C:\\Users\\user\\Downloads\\data.csv\")"
   ]
  },
  {
   "cell_type": "code",
   "execution_count": 172,
   "id": "c0d179cb-9e28-44d4-b9b4-6fc332044ac3",
   "metadata": {},
   "outputs": [
    {
     "data": {
      "text/plain": [
       "<Figure size 1200x600 with 0 Axes>"
      ]
     },
     "execution_count": 172,
     "metadata": {},
     "output_type": "execute_result"
    },
    {
     "data": {
      "text/plain": [
       "<Figure size 1200x600 with 0 Axes>"
      ]
     },
     "metadata": {},
     "output_type": "display_data"
    }
   ],
   "source": [
    "plt.figure(figsize=(12, 6))"
   ]
  },
  {
   "cell_type": "code",
   "execution_count": 178,
   "id": "8b88bd4a-584a-45c3-9d37-be966a830501",
   "metadata": {},
   "outputs": [],
   "source": [
    "te_dhenat.replace([float('inf'), float('-inf')], pd.NA, inplace=True)"
   ]
  },
  {
   "cell_type": "code",
   "execution_count": 182,
   "id": "55331acb-9685-4763-b626-4534f6770efa",
   "metadata": {},
   "outputs": [],
   "source": [
    "# Clean the index or data to ensure there are no inf values\n",
    "cleaned_index = te_dhenat.index[~te_dhenat.index.isin([np.inf, -np.inf])]\n"
   ]
  },
  {
   "cell_type": "code",
   "execution_count": 188,
   "id": "22fd02a0-2712-4567-9a2e-6166f7372f2b",
   "metadata": {},
   "outputs": [
    {
     "name": "stderr",
     "output_type": "stream",
     "text": [
      "C:\\Users\\user\\anaconda3\\Lib\\site-packages\\seaborn\\_oldcore.py:1119: FutureWarning: use_inf_as_na option is deprecated and will be removed in a future version. Convert inf values to NaN before operating instead.\n",
      "  with pd.option_context('mode.use_inf_as_na', True):\n"
     ]
    },
    {
     "data": {
      "text/plain": [
       "Text(0, 0.5, 'Densitet')"
      ]
     },
     "execution_count": 188,
     "metadata": {},
     "output_type": "execute_result"
    },
    {
     "data": {
      "image/png": "[encoded data removed]",
      "text/plain": [
       "<Figure size 640x480 with 1 Axes>"
      ]
     },
     "metadata": {},
     "output_type": "display_data"
    }
   ],
   "source": [
    "plt.subplot(1, 3, 2)\n",
    "sns.kdeplot(te_dhenat['Dite qendrimi'], bw_adjust=0.5)\n",
    "plt.title('KDE of Days Staying')\n",
    "plt.xlabel('Dite qendrimi')\n",
    "plt.ylabel('Densitet')"
   ]
  },
  {
   "cell_type": "code",
   "execution_count": 190,
   "id": "f2b00ec8-3f5c-4f51-aa7c-2782971fbb08",
   "metadata": {},
   "outputs": [
    {
     "data": {
      "text/plain": [
       "Text(0.5, 1.0, 'Q-Q Plot of Days Staying')"
      ]
     },
     "execution_count": 190,
     "metadata": {},
     "output_type": "execute_result"
    },
    {
     "data": {
      "image/png": "[encoded data removed]",
      "text/plain": [
       "<Figure size 640x480 with 1 Axes>"
      ]
     },
     "metadata": {},
     "output_type": "display_data"
    }
   ],
   "source": [
    "plt.subplot(1, 3, 3)\n",
    "stats.probplot(te_dhenat['Dite qendrimi'], dist=\"norm\", plot=plt)\n",
    "plt.title('Q-Q Plot of Days Staying')\n"
   ]
  },
  {
   "cell_type": "code",
   "execution_count": null,
   "id": "65eea4fd-fcd1-404e-9ae6-e8d4bc888da6",
   "metadata": {},
   "outputs": [],
   "source": []
  }
 ],
 "metadata": {
  "kernelspec": {
   "display_name": "Python 3 (ipykernel)",
   "language": "python",
   "name": "python3"
  },
  "language_info": {
   "codemirror_mode": {
    "name": "ipython",
    "version": 3
   },
   "file_extension": ".py",
   "mimetype": "text/x-python",
   "name": "python",
   "nbconvert_exporter": "python",
   "pygments_lexer": "ipython3",
   "version": "3.11.5"
  }
 },
 "nbformat": 4,
 "nbformat_minor": 5
}
